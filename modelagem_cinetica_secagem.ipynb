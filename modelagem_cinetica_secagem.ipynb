{
  "nbformat": 4,
  "nbformat_minor": 0,
  "metadata": {
    "colab": {
      "name": "modelagem_cinetica_secagem.ipynb",
      "provenance": [],
      "collapsed_sections": [],
      "authorship_tag": "ABX9TyOwnZ9RH8psOPTz6316oAfP",
      "include_colab_link": true
    },
    "kernelspec": {
      "name": "python3",
      "display_name": "Python 3"
    },
    "language_info": {
      "name": "python"
    }
  },
  "cells": [
    {
      "cell_type": "markdown",
      "metadata": {
        "id": "view-in-github",
        "colab_type": "text"
      },
      "source": [
        "<a href=\"https://colab.research.google.com/github/GuilhermeNishimoto/cinetica_secagem/blob/main/modelagem_cinetica_secagem.ipynb\" target=\"_parent\"><img src=\"https://colab.research.google.com/assets/colab-badge.svg\" alt=\"Open In Colab\"/></a>"
      ]
    },
    {
      "cell_type": "markdown",
      "source": [
        "# Importando Bibliotecas"
      ],
      "metadata": {
        "id": "E8E8EfzHei0l"
      }
    },
    {
      "cell_type": "code",
      "execution_count": 1,
      "metadata": {
        "id": "h4voE8aLZXXZ"
      },
      "outputs": [],
      "source": [
        "import pandas as pd\n",
        "import numpy as np\n",
        "import math\n",
        "import seaborn as sns\n",
        "import matplotlib.pyplot as plt \n",
        "import warnings\n",
        "\n",
        "from scipy.optimize import curve_fit\n",
        "from sklearn.metrics import r2_score\n",
        "from google.colab import files"
      ]
    },
    {
      "cell_type": "code",
      "source": [
        "warnings.filterwarnings(\"ignore\", category=RuntimeWarning) "
      ],
      "metadata": {
        "id": "uOIsD6SOo7qT"
      },
      "execution_count": 2,
      "outputs": []
    },
    {
      "cell_type": "markdown",
      "source": [
        "# Data Loading"
      ],
      "metadata": {
        "id": "LX-My6VZwn7L"
      }
    },
    {
      "cell_type": "code",
      "source": [
        "df = pd.read_excel(\"dados_cinetica_secagem.xlsx\")"
      ],
      "metadata": {
        "id": "5JANQ3GZbU6h"
      },
      "execution_count": 3,
      "outputs": []
    },
    {
      "cell_type": "markdown",
      "source": [
        "# Modelos Matemáticos de Curva de Secagem:"
      ],
      "metadata": {
        "id": "kst2pU_wcdU5"
      }
    },
    {
      "cell_type": "markdown",
      "source": [
        "#### Modelo de Newton"
      ],
      "metadata": {
        "id": "hsEXJPv3k8mH"
      }
    },
    {
      "cell_type": "code",
      "source": [
        "def modelo_newton(t, k):\n",
        "    return np.exp(- k * t)"
      ],
      "metadata": {
        "id": "ztm3MCt_bjV6"
      },
      "execution_count": 4,
      "outputs": []
    },
    {
      "cell_type": "markdown",
      "source": [
        "#### Modelo de Page"
      ],
      "metadata": {
        "id": "JRcgttHZlAhj"
      }
    },
    {
      "cell_type": "code",
      "source": [
        "def modelo_page(t, k, n):\n",
        "    return np.exp(- k * (t ** n))"
      ],
      "metadata": {
        "id": "pkCOP_5-cbto"
      },
      "execution_count": 5,
      "outputs": []
    },
    {
      "cell_type": "markdown",
      "source": [
        "#### Modelo de Midilli"
      ],
      "metadata": {
        "id": "FzvCyJfJlDob"
      }
    },
    {
      "cell_type": "code",
      "source": [
        "def modelo_midilli(t, a, k, n, b):\n",
        "    return a * np.exp(- k * (t ** n)) - (b * t)"
      ],
      "metadata": {
        "id": "5lKkvEfAc30u"
      },
      "execution_count": 6,
      "outputs": []
    },
    {
      "cell_type": "markdown",
      "source": [
        "#### Modelo de Page Modificado"
      ],
      "metadata": {
        "id": "MkYtvWi8lECe"
      }
    },
    {
      "cell_type": "code",
      "source": [
        "def modelo_page_modificado(t, k, n):\n",
        "    return np.exp(-((k * n) ** n))"
      ],
      "metadata": {
        "id": "wa8tdftGc3vX"
      },
      "execution_count": 7,
      "outputs": []
    },
    {
      "cell_type": "markdown",
      "source": [
        "#### Modelo de Weibull"
      ],
      "metadata": {
        "id": "g1y8UidMlEqu"
      }
    },
    {
      "cell_type": "code",
      "source": [
        "def modelo_weibull(t, a, b):\n",
        "    return np.exp(- ((t / a) ** b))"
      ],
      "metadata": {
        "id": "ZqWheMzNc3pw"
      },
      "execution_count": 8,
      "outputs": []
    },
    {
      "cell_type": "markdown",
      "source": [
        "# Análises Estatísticas"
      ],
      "metadata": {
        "id": "YXENgOjTd290"
      }
    },
    {
      "cell_type": "markdown",
      "source": [
        "#### Coeficiente de Determinação (R²)\n",
        "[sklearn.metrics.r2_score](https://scikit-learn.org/stable/modules/generated/sklearn.metrics.r2_score.html)"
      ],
      "metadata": {
        "id": "dMb-2SN3fKrp"
      }
    },
    {
      "cell_type": "markdown",
      "source": [
        "#### Erro Médio\n",
        "\n",
        "$$\n",
        "SE = \\left[ \\frac{\\sum_{\\left( X_{experimental}  - X_{modelo}\\right)^2}^{}}{n} \\right]^\\frac{1}{2}\n",
        "$$"
      ],
      "metadata": {
        "id": "Y9hL70omv4yo"
      }
    },
    {
      "cell_type": "code",
      "source": [
        "def erro_medio(df, col_exp, col_mod, n):\n",
        "    return math.sqrt(pow(sum(df[col_exp] - df[col_mod]), 2)/n)"
      ],
      "metadata": {
        "id": "tGgjDoWRhxvU"
      },
      "execution_count": 9,
      "outputs": []
    },
    {
      "cell_type": "markdown",
      "source": [
        "# Fitting"
      ],
      "metadata": {
        "id": "8zkGVXKIh5A0"
      }
    },
    {
      "cell_type": "markdown",
      "source": [
        "#### Modelo de Newton"
      ],
      "metadata": {
        "id": "A3g-31aApFq8"
      }
    },
    {
      "cell_type": "code",
      "source": [
        "def fit_modelo_newton(df, modelo = modelo_newton):\n",
        "\n",
        "    name = modelo.__name__\n",
        "    \n",
        "    popt, pcov = curve_fit(\n",
        "    f = modelo,\n",
        "    xdata = df['time'],\n",
        "    ydata = df['experimental'],\n",
        "    )\n",
        "\n",
        "    # Parameters \n",
        "    k = popt[0]\n",
        "    n = len(popt)\n",
        "\n",
        "    # Standard Error of the parameters\n",
        "    standard_error = np.sqrt(np.diag(pcov))\n",
        "\n",
        "    df[f'{name}'] = modelo(df['time'], k)\n",
        "\n",
        "    # Coefficient of Determination\n",
        "    r2 = r2_score(df['experimental'], df[f'{name}'])\n",
        "\n",
        "    se = erro_medio(df, col_exp = 'experimental', col_mod = f'{name}', n = n)\n",
        "\n",
        "    print(\n",
        "    f''' Modelo de Newton:\n",
        "    \n",
        "    Estimated value of k: {k} +/- {standard_error[0]}\n",
        "    \n",
        "    R²: {r2}\n",
        "    SE: {se}\n",
        "    -----------------------------------------------------------------------------\n",
        "    '''\n",
        "    )"
      ],
      "metadata": {
        "id": "tuya9NrfpGBU"
      },
      "execution_count": 10,
      "outputs": []
    },
    {
      "cell_type": "markdown",
      "source": [
        "#### Modelo de Weibull"
      ],
      "metadata": {
        "id": "dNu9QjvXn0iW"
      }
    },
    {
      "cell_type": "code",
      "source": [
        "def fit_modelo_weibull(df, modelo = modelo_weibull):\n",
        "\n",
        "    name = modelo.__name__\n",
        "    \n",
        "    popt, pcov = curve_fit(\n",
        "    f = modelo,\n",
        "    xdata = df['time'],\n",
        "    ydata = df['experimental'],\n",
        "    )\n",
        "\n",
        "    # Parameters \n",
        "    a, b = popt\n",
        "    n = len(popt)\n",
        "\n",
        "    # Standard Error of the parameters\n",
        "    standard_error = np.sqrt(np.diag(pcov))\n",
        "\n",
        "    df[f'{name}'] = modelo(df['time'], a, b)\n",
        "\n",
        "    # Coefficient of Determination\n",
        "    r2 = r2_score(df['experimental'], df[f'{name}'])\n",
        "\n",
        "    se = erro_medio(df, col_exp = 'experimental', col_mod = f'{name}', n = n)\n",
        "\n",
        "    print(\n",
        "    f'''Modelo de Weibull:\n",
        "    \n",
        "    Estimated value of a: {a} +/- {standard_error[0]}\n",
        "    Estimated value of b: {b} +/- {standard_error[1]}\n",
        "    \n",
        "    R²: {r2}\n",
        "    SE: {se}\n",
        "    -----------------------------------------------------------------------------\n",
        "    '''\n",
        "    )"
      ],
      "metadata": {
        "id": "cbYb-yE8jkQa"
      },
      "execution_count": 11,
      "outputs": []
    },
    {
      "cell_type": "markdown",
      "source": [
        "#### Results"
      ],
      "metadata": {
        "id": "wzn0bmFht8dI"
      }
    },
    {
      "cell_type": "code",
      "source": [
        "fit_modelo_newton(df)\n",
        "fit_modelo_weibull(df)"
      ],
      "metadata": {
        "id": "qGo7yArct_Up",
        "outputId": "25eaa847-d294-44dc-ad85-c043a39610a6",
        "colab": {
          "base_uri": "https://localhost:8080/"
        }
      },
      "execution_count": 12,
      "outputs": [
        {
          "output_type": "stream",
          "name": "stdout",
          "text": [
            " Modelo de Newton:\n",
            "    \n",
            "    Estimated value of k: 0.022959831081044768 +/- 0.00029035385931794105\n",
            "    \n",
            "    R²: 0.9961437373113632\n",
            "    SE: 0.16365855365353169\n",
            "    -----------------------------------------------------------------------------\n",
            "    \n",
            "Modelo de Weibull:\n",
            "    \n",
            "    Estimated value of a: 43.80085824319294 +/- 0.4533847152126296\n",
            "    Estimated value of b: 1.0636171106645202 +/- 0.017884116346970413\n",
            "    \n",
            "    R²: 0.9973325027666043\n",
            "    SE: 0.12335201695061786\n",
            "    -----------------------------------------------------------------------------\n",
            "    \n"
          ]
        }
      ]
    },
    {
      "cell_type": "markdown",
      "source": [
        "# Plotting"
      ],
      "metadata": {
        "id": "wlaFZkheM6Wc"
      }
    },
    {
      "cell_type": "markdown",
      "source": [
        "#### Function"
      ],
      "metadata": {
        "id": "2EntozCktxRj"
      }
    },
    {
      "cell_type": "code",
      "source": [
        "def plot_grafico(df, col):\n",
        "\n",
        "    # Define as dimensões do gráfico\n",
        "    fig, ax = plt.subplots(figsize = (6, 4))\n",
        "\n",
        "    # Gráfico de pontos\n",
        "    ax1 = sns.scatterplot(\n",
        "        data = df,\n",
        "        x = 'time',\n",
        "        y = 'experimental',\n",
        "        color = 'black',\n",
        "        label = 'Experimental',\n",
        "        ax = ax # Argumento para que os gráficos dividam o eixo y \n",
        "    )\n",
        "\n",
        "    # Gráfico de Linha\n",
        "    ax2 = sns.lineplot(\n",
        "        data = df,\n",
        "        x = 'time',\n",
        "        y = col,\n",
        "        color = 'red',\n",
        "        label = col,\n",
        "        ax = ax # Argumento para que os gráficos dividam o eixo y \n",
        "    )\n",
        "\n",
        "    # Renomeia os eixos x e y e o título do gráfico\n",
        "    ax.set_xlabel(\"Tempo (minutos)\", fontsize = 12)\n",
        "    ax.set_ylabel(\"M (adimensional)\", fontsize = 12)\n",
        "\n",
        "\n",
        "    # Exclui a linha superior e a direita do gráfico\n",
        "    ax.spines['right'].set_visible(False)\n",
        "    ax.spines['top'].set_visible(False)\n",
        "\n",
        "    plt.legend()\n",
        "\n",
        "    # Salva a figura\n",
        "    plt.savefig(f'{col}.png', format = 'png')\n",
        "\n",
        "    # Download da imagem\n",
        "    # files.download(f'{nome_grafico}.png')\n",
        "\n",
        "    plt.show()"
      ],
      "metadata": {
        "id": "h_aI6iKHM9g2"
      },
      "execution_count": 13,
      "outputs": []
    },
    {
      "cell_type": "markdown",
      "source": [
        "#### Modelo de Newton"
      ],
      "metadata": {
        "id": "XB0NQBF-vZuU"
      }
    },
    {
      "cell_type": "code",
      "source": [
        "plot_grafico(df, 'modelo_newton')"
      ],
      "metadata": {
        "id": "xATnQv3PvYW_",
        "outputId": "82e5f77e-893e-46bb-8f08-8b2850657d33",
        "colab": {
          "base_uri": "https://localhost:8080/",
          "height": 282
        }
      },
      "execution_count": 14,
      "outputs": [
        {
          "output_type": "display_data",
          "data": {
            "text/plain": [
              "<Figure size 432x288 with 1 Axes>"
            ],
            "image/png": "[encoded data removed]"
          },
          "metadata": {
            "needs_background": "light"
          }
        }
      ]
    },
    {
      "cell_type": "markdown",
      "source": [
        "#### Modelo de Weibull"
      ],
      "metadata": {
        "id": "H_t20v7wM-mx"
      }
    },
    {
      "cell_type": "code",
      "source": [
        "plot_grafico(df, 'modelo_weibull')"
      ],
      "metadata": {
        "colab": {
          "base_uri": "https://localhost:8080/",
          "height": 282
        },
        "id": "cQgx2NhDNiJL",
        "outputId": "15b118ff-d705-40db-c941-d0b6ccd4dd03"
      },
      "execution_count": 15,
      "outputs": [
        {
          "output_type": "display_data",
          "data": {
            "text/plain": [
              "<Figure size 432x288 with 1 Axes>"
            ],
            "image/png": "[encoded data removed]"
          },
          "metadata": {
            "needs_background": "light"
          }
        }
      ]
    }
  ]
}