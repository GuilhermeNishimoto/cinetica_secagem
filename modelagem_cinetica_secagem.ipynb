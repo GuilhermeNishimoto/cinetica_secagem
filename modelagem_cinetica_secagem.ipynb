{
  "nbformat": 4,
  "nbformat_minor": 0,
  "metadata": {
    "colab": {
      "name": "modelagem_cinetica_secagem.ipynb",
      "provenance": [],
      "collapsed_sections": [],
      "authorship_tag": "ABX9TyP58TzWdUANmv6lbFPRQM08",
      "include_colab_link": true
    },
    "kernelspec": {
      "name": "python3",
      "display_name": "Python 3"
    },
    "language_info": {
      "name": "python"
    }
  },
  "cells": [
    {
      "cell_type": "markdown",
      "metadata": {
        "id": "view-in-github",
        "colab_type": "text"
      },
      "source": [
        "<a href=\"https://colab.research.google.com/github/GuilhermeNishimoto/cinetica_secagem/blob/main/modelagem_cinetica_secagem.ipynb\" target=\"_parent\"><img src=\"https://colab.research.google.com/assets/colab-badge.svg\" alt=\"Open In Colab\"/></a>"
      ]
    },
    {
      "cell_type": "markdown",
      "source": [
        "# Importando Bibliotecas"
      ],
      "metadata": {
        "id": "E8E8EfzHei0l"
      }
    },
    {
      "cell_type": "code",
      "execution_count": 52,
      "metadata": {
        "id": "h4voE8aLZXXZ"
      },
      "outputs": [],
      "source": [
        "import pandas as pd\n",
        "import numpy as np\n",
        "import math\n",
        "import seaborn as sns\n",
        "import matplotlib.pyplot as plt \n",
        "import warnings\n",
        "\n",
        "from scipy.optimize import curve_fit\n",
        "from sklearn.metrics import r2_score\n",
        "from google.colab import files"
      ]
    },
    {
      "cell_type": "code",
      "source": [
        "warnings.filterwarnings(\"ignore\", category=RuntimeWarning) "
      ],
      "metadata": {
        "id": "uOIsD6SOo7qT"
      },
      "execution_count": 53,
      "outputs": []
    },
    {
      "cell_type": "markdown",
      "source": [
        "# Data Loading"
      ],
      "metadata": {
        "id": "LX-My6VZwn7L"
      }
    },
    {
      "cell_type": "code",
      "source": [
        "df = pd.read_excel(\"dados_cinetica_secagem.xlsx\")"
      ],
      "metadata": {
        "id": "5JANQ3GZbU6h"
      },
      "execution_count": 54,
      "outputs": []
    },
    {
      "cell_type": "code",
      "source": [
        "x = df['time'].values\n",
        "y = df['experimental'].values"
      ],
      "metadata": {
        "id": "h9RhTBBcimuS"
      },
      "execution_count": 55,
      "outputs": []
    },
    {
      "cell_type": "markdown",
      "source": [
        "# Modelos Matemáticos de Curva de Secagem:"
      ],
      "metadata": {
        "id": "kst2pU_wcdU5"
      }
    },
    {
      "cell_type": "markdown",
      "source": [
        "#### Modelo de Newton"
      ],
      "metadata": {
        "id": "hsEXJPv3k8mH"
      }
    },
    {
      "cell_type": "code",
      "source": [
        "def modelo_newton(t, k):\n",
        "    return np.exp(- k * t)"
      ],
      "metadata": {
        "id": "ztm3MCt_bjV6"
      },
      "execution_count": 56,
      "outputs": []
    },
    {
      "cell_type": "markdown",
      "source": [
        "#### Modelo de Page"
      ],
      "metadata": {
        "id": "JRcgttHZlAhj"
      }
    },
    {
      "cell_type": "code",
      "source": [
        "def modelo_page(t, k, n):\n",
        "    return np.exp(- k * (t ** n))"
      ],
      "metadata": {
        "id": "pkCOP_5-cbto"
      },
      "execution_count": 57,
      "outputs": []
    },
    {
      "cell_type": "markdown",
      "source": [
        "#### Modelo de Midilli"
      ],
      "metadata": {
        "id": "FzvCyJfJlDob"
      }
    },
    {
      "cell_type": "code",
      "source": [
        "def modelo_midilli(t, a, k, n, b):\n",
        "    return a * np.exp(- k * (t ** n)) - (b * t)"
      ],
      "metadata": {
        "id": "5lKkvEfAc30u"
      },
      "execution_count": 58,
      "outputs": []
    },
    {
      "cell_type": "markdown",
      "source": [
        "#### Modelo de Page Modificado"
      ],
      "metadata": {
        "id": "MkYtvWi8lECe"
      }
    },
    {
      "cell_type": "code",
      "source": [
        "def modelo_page_modificado(t, k, n):\n",
        "    return np.exp(-((k * n) ** n))"
      ],
      "metadata": {
        "id": "wa8tdftGc3vX"
      },
      "execution_count": 59,
      "outputs": []
    },
    {
      "cell_type": "markdown",
      "source": [
        "#### Modelo de Weibull"
      ],
      "metadata": {
        "id": "g1y8UidMlEqu"
      }
    },
    {
      "cell_type": "code",
      "source": [
        "def modelo_weibull(t, a, b):\n",
        "    return np.exp(- ((t / a) ** b))"
      ],
      "metadata": {
        "id": "ZqWheMzNc3pw"
      },
      "execution_count": 60,
      "outputs": []
    },
    {
      "cell_type": "markdown",
      "source": [
        "# Análises Estatísticas"
      ],
      "metadata": {
        "id": "YXENgOjTd290"
      }
    },
    {
      "cell_type": "code",
      "source": [
        ""
      ],
      "metadata": {
        "id": "gocqPDV8d5__"
      },
      "execution_count": 60,
      "outputs": []
    },
    {
      "cell_type": "markdown",
      "source": [
        "#### Erro Médio\n",
        "\n",
        "$$\n",
        "SE = \\left[ \\frac{\\sum_{\\left( X_{experimental}  - X_{modelo}\\right)^2}^{}}{n} \\right]^\\frac{1}{2}\n",
        "$$"
      ],
      "metadata": {
        "id": "Y9hL70omv4yo"
      }
    },
    {
      "cell_type": "code",
      "source": [
        "def erro_medio(df, col_exp, col_mod, n):\n",
        "    return math.sqrt(pow(sum(df[col_exp] - df[col_mod]), 2)/n)"
      ],
      "metadata": {
        "id": "tGgjDoWRhxvU"
      },
      "execution_count": 61,
      "outputs": []
    },
    {
      "cell_type": "markdown",
      "source": [
        "# Fitting"
      ],
      "metadata": {
        "id": "8zkGVXKIh5A0"
      }
    },
    {
      "cell_type": "markdown",
      "source": [
        "#### Modelo de Weibull"
      ],
      "metadata": {
        "id": "dNu9QjvXn0iW"
      }
    },
    {
      "cell_type": "code",
      "source": [
        "popt, pcov = curve_fit(\n",
        "    f = modelo_weibull,\n",
        "    xdata = x,\n",
        "    ydata = y,\n",
        ")\n",
        "\n",
        "a, b = popt\n",
        "n = len(popt)\n",
        "\n",
        "y_weibull = modelo_weibull(x, a, b)\n",
        "\n",
        "df['modelo_weibull'] = y_weibull\n",
        "\n",
        "r2 = r2_score(y, y_weibull)\n",
        "\n",
        "se = erro_medio(df, col_exp = 'experimental', col_mod = 'modelo_weibull', n = n)\n",
        "\n",
        "print(\n",
        "f'''\n",
        "Estimated value of a: {a}\n",
        "Estimated value of b: {b}\n",
        "SE = {se}\n",
        "'''\n",
        ")"
      ],
      "metadata": {
        "colab": {
          "base_uri": "https://localhost:8080/"
        },
        "id": "t8K_MJqSnYyH",
        "outputId": "11f2beb4-3c7f-45db-80ee-0353ad9da588"
      },
      "execution_count": 65,
      "outputs": [
        {
          "output_type": "stream",
          "name": "stdout",
          "text": [
            "\n",
            "Estimated value of a: 43.80085824319294\n",
            "Estimated value of b: 1.0636171106645202\n",
            "SE = 0.12335201695061786\n",
            "\n"
          ]
        }
      ]
    },
    {
      "cell_type": "markdown",
      "source": [
        "# Plotting"
      ],
      "metadata": {
        "id": "wlaFZkheM6Wc"
      }
    },
    {
      "cell_type": "markdown",
      "source": [
        "#### Modelo Weibull"
      ],
      "metadata": {
        "id": "H_t20v7wM-mx"
      }
    },
    {
      "cell_type": "code",
      "source": [
        "def cria_grafico(df, col):\n",
        "\n",
        "    # Define as dimensões do gráfico\n",
        "    fig, ax = plt.subplots(figsize = (6, 4))\n",
        "\n",
        "    # Gráfico de pontos\n",
        "    ax1 = sns.scatterplot(\n",
        "        data = df,\n",
        "        x = 'time',\n",
        "        y = 'experimental',\n",
        "        color = 'black',\n",
        "        label = 'Experimental',\n",
        "        ax = ax # Argumento para que os gráficos dividam o eixo y \n",
        "    )\n",
        "\n",
        "    # Gráfico de Linha\n",
        "    ax2 = sns.lineplot(\n",
        "        data = df,\n",
        "        x = 'time',\n",
        "        y = col,\n",
        "        color = 'red',\n",
        "        label = col,\n",
        "        ax = ax # Argumento para que os gráficos dividam o eixo y \n",
        "    )\n",
        "\n",
        "    # Renomeia os eixos x e y e o título do gráfico\n",
        "    ax.set_xlabel(\"Tempo (minutos)\", fontsize = 12)\n",
        "    ax.set_ylabel(\"M (adimensional)\", fontsize = 12)\n",
        "\n",
        "\n",
        "    # Exclui a linha superior e a direita do gráfico\n",
        "    ax.spines['right'].set_visible(False)\n",
        "    ax.spines['top'].set_visible(False)\n",
        "\n",
        "    plt.legend()\n",
        "\n",
        "    # Salva a figura\n",
        "    plt.savefig(f'{col}.png', format = 'png')\n",
        "\n",
        "    # Download da imagem\n",
        "    # files.download(f'{nome_grafico}.png')\n",
        "\n",
        "    plt.show()"
      ],
      "metadata": {
        "id": "h_aI6iKHM9g2"
      },
      "execution_count": 90,
      "outputs": []
    },
    {
      "cell_type": "code",
      "source": [
        "# cria_grafico(df, 'modelo_weibull')"
      ],
      "metadata": {
        "colab": {
          "base_uri": "https://localhost:8080/",
          "height": 282
        },
        "id": "cQgx2NhDNiJL",
        "outputId": "4dc3584d-8747-45b9-f7b8-a1122e465aa0"
      },
      "execution_count": 91,
      "outputs": [
        {
          "output_type": "display_data",
          "data": {
            "text/plain": [
              "<Figure size 432x288 with 1 Axes>"
            ],
            "image/png": "[encoded data removed]"
          },
          "metadata": {
            "needs_background": "light"
          }
        }
      ]
    },
    {
      "cell_type": "code",
      "source": [
        ""
      ],
      "metadata": {
        "id": "WeCLh_mGZlny"
      },
      "execution_count": null,
      "outputs": []
    }
  ]
}